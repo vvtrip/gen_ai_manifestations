{
 "cells": [
  {
   "cell_type": "code",
   "execution_count": 4,
   "id": "561b41e7-4ee6-48a3-8924-178e18babeef",
   "metadata": {},
   "outputs": [],
   "source": [
    "from dotenv import load_dotenv, find_dotenv\n",
    "load_dotenv(find_dotenv('file.env'))\n",
    "import warnings\n",
    "warnings.simplefilter('ignore')"
   ]
  },
  {
   "cell_type": "markdown",
   "id": "a219a3ed-68c7-4ec7-a517-dcd3e5743bd5",
   "metadata": {},
   "source": [
    "# GPT-4 chat capabilities"
   ]
  },
  {
   "cell_type": "code",
   "execution_count": 5,
   "id": "8e8470a4-a5c1-4d16-8202-577abf7ab114",
   "metadata": {},
   "outputs": [
    {
     "data": {
      "text/plain": [
       "AIMessage(content='Paris, the capital of France, is one of the most famous cities in the world. Known as the \"City of Light\" or the \"City of Love,\" Paris is renowned for its romantic charm. \\n\\nParis is home to numerous iconic landmarks, including the Eiffel Tower, the Louvre Museum, Notre-Dame Cathedral, and the Champs-Elysées. It\\'s also known for its high fashion, gourmet cuisine, and rich history. The city is a major center for art, fashion, gastronomy, and culture. \\n\\nParis\\' history dates back to the 3rd century BC when it was founded by a Celtic people called the Parisii. It was later conquered by the Romans who named it Lutetia. \\n\\nThe Louvre Museum in Paris is the world\\'s largest art museum and a historic monument, and the Eiffel Tower is one of the most recognized structures in the world. \\n\\nParis is also known for its cafe culture and designer boutiques along the Rue du Faubourg Saint-Honoré. It also hosts many international organizations such as UNESCO, the Organisation for Economic Co-operation and Development (OECD), the International Chamber of Commerce (ICC), and the informal Paris Club. \\n\\nMoreover, it\\'s a multicultural city with a population of over 2 million people. The city\\'s culture is a vibrant mix of music, theater, film, food, and fashion. Paris also hosts many international events, including the Paris Fashion Week and the French Open. \\n\\nDespite its bustling city life, Paris also offers quiet, hidden gems like small parks and old bookshops. It\\'s a city that beautifully blends the old and the new, offering an enriching experience to all its visitors.', response_metadata={'token_usage': {'completion_tokens': 346, 'prompt_tokens': 52, 'total_tokens': 398}, 'model_name': 'gpt-4', 'system_fingerprint': None, 'finish_reason': 'stop', 'logprobs': None}, id='run-6c2e7d45-695a-4979-abd5-61434f45cb4e-0')"
      ]
     },
     "execution_count": 5,
     "metadata": {},
     "output_type": "execute_result"
    }
   ],
   "source": [
    "from langchain.chat_models import ChatOpenAI\n",
    "from langchain.schema import (\n",
    "    SystemMessage,\n",
    "    HumanMessage,\n",
    "    AIMessage\n",
    ")\n",
    "\n",
    "messages = [\n",
    "    SystemMessage(content=\"You are a helpful assistant.\"),\n",
    "    HumanMessage(content=\"What is the capital of France?\"),\n",
    "    AIMessage(content=\"The capital of France is Paris.\")\n",
    "]\n",
    "\n",
    "prompt = HumanMessage(\n",
    "    content=\"I'd like to know more about the city you just mentioned.\"\n",
    ")\n",
    "# add to messages\n",
    "messages.append(prompt)\n",
    "\n",
    "llm = ChatOpenAI(model_name=\"gpt-4\")\n",
    "\n",
    "response = llm(messages)\n",
    "response"
   ]
  },
  {
   "cell_type": "markdown",
   "id": "01f0cf1b-a282-4cfb-9ec5-1bc9af3287cf",
   "metadata": {},
   "source": [
    "The model successfully extracted the information from previous conversations and explained more details about Paris. It shows that the chat models are capable of referring to the chat history and understanding the context.\n",
    "\n",
    "To recap, the ChatOpenAI class is used to create a chat-based application that can handle user inputs and generate responses using the GPT-4 language model. The conversation is initiated with a series of messages, including system, human, and AI messages. The SystemMessage provides context for the conversation, while HumanMessage and AIMessage represent the user and the AI's messages, respectively."
   ]
  },
  {
   "cell_type": "markdown",
   "id": "c7645cc3-5b71-41a3-984c-aeac42e3e3f5",
   "metadata": {},
   "source": [
    "The LangChain’s Chat API offers several advantages:\n",
    "\n",
    "**Context preservation:** By maintaining a list of messages in the conversation, the API ensures that the context is preserved throughout the interaction. This allows the GPT-4 model to generate relevant and coherent responses based on the provided information.\n",
    "\n",
    "\n",
    "**Memory:** The class’s message history acts as a short-term memory for the chatbot, allowing it to refer back to previous messages and provide more accurate and contextual responses.\n",
    "\n",
    "\n",
    "**Modularity:** The combination of MessageTemplate and ChatOpenAI classes offers a modular approach to designing conversation applications. This makes it easier to develop, maintain, and extend the functionality of the chatbot.\n",
    "\n",
    "\n",
    "**Improved performance:** GPT-4, as an advanced language model, is more adept at understanding complex prompts and generating better responses than its predecessors. It can handle tasks that require deeper reasoning and context awareness, which leads to a more engaging and useful conversation experience.\n",
    "\n",
    "\n",
    "**Flexibility:** The Chat API can be adapted to different domains and tasks, making it a versatile solution for various chatbot applications. In this example, the chatbot specializes in French culture but could be easily modified to focus on other subjects or industries. Moreover, as newer and more powerful language models become available, the API can be updated to utilize those models, allowing for continuous improvements in chatbot capabilities."
   ]
  },
  {
   "cell_type": "code",
   "execution_count": null,
   "id": "ae6af648-e7c9-4e23-a238-645ed6a4713b",
   "metadata": {},
   "outputs": [],
   "source": []
  }
 ],
 "metadata": {
  "kernelspec": {
   "display_name": "Python 3 (ipykernel)",
   "language": "python",
   "name": "python3"
  },
  "language_info": {
   "codemirror_mode": {
    "name": "ipython",
    "version": 3
   },
   "file_extension": ".py",
   "mimetype": "text/x-python",
   "name": "python",
   "nbconvert_exporter": "python",
   "pygments_lexer": "ipython3",
   "version": "3.10.1"
  }
 },
 "nbformat": 4,
 "nbformat_minor": 5
}
