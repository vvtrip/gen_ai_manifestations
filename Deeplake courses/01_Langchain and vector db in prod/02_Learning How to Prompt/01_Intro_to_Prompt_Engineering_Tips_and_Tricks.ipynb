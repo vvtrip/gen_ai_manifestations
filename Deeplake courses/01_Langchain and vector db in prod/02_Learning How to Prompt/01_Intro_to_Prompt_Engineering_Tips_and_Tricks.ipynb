{
 "cells": [
  {
   "cell_type": "code",
   "execution_count": 10,
   "id": "ae33dd83-297d-443f-a08f-1c92df119c0e",
   "metadata": {},
   "outputs": [],
   "source": [
    "from dotenv import load_dotenv, find_dotenv\n",
    "import warnings\n",
    "warnings.simplefilter('ignore')"
   ]
  },
  {
   "cell_type": "code",
   "execution_count": 11,
   "id": "b818746b-0734-439b-8488-cbbd4a15398e",
   "metadata": {},
   "outputs": [
    {
     "data": {
      "text/plain": [
       "True"
      ]
     },
     "execution_count": 11,
     "metadata": {},
     "output_type": "execute_result"
    }
   ],
   "source": [
    "load_dotenv(find_dotenv('file.env'))"
   ]
  },
  {
   "cell_type": "code",
   "execution_count": 12,
   "id": "8d0c8b92-788f-46c5-9ae3-ea068e0124d0",
   "metadata": {},
   "outputs": [
    {
     "name": "stdout",
     "output_type": "stream",
     "text": [
      "langchain-> 0.2.8 openai-> 1.35.14\n"
     ]
    }
   ],
   "source": [
    "import openai,langchain\n",
    "print(\"langchain->\",langchain.__version__, \"openai->\",openai.__version__)"
   ]
  },
  {
   "cell_type": "markdown",
   "id": "fbec892d-cd08-4ec3-964d-3ab980af33e5",
   "metadata": {},
   "source": [
    "# Role  Prompting"
   ]
  },
  {
   "cell_type": "markdown",
   "id": "fac664de-deba-4206-9bd9-706d3959557d",
   "metadata": {},
   "source": [
    "Role prompting involves asking the LLM to assume a specific role or identity before performing a given task, such as acting as a copywriter. This can help guide the model's response by providing a context or perspective for the task. To work with role prompts, you could iteratively:\n",
    "\n",
    "1- Specify the role in your prompt, e.g., \"As a copywriter, create some attention-grabbing taglines for AWS services.\"\n",
    "\n",
    "2 - Use the prompt to generate an output from an LLM.\n",
    "\n",
    "3 - Analyze the generated response and, if necessary, refine the prompt for better results."
   ]
  },
  {
   "cell_type": "code",
   "execution_count": 13,
   "id": "f7b088b4-0caf-459c-919f-64ed6f5ea4d8",
   "metadata": {},
   "outputs": [
    {
     "name": "stdout",
     "output_type": "stream",
     "text": [
      "Theme: interstellar travel\n",
      "Year: 3030\n",
      "AI-generated song title: \n",
      "\"Galactic Odyssey: Journey to 3030\"\n"
     ]
    }
   ],
   "source": [
    "# In this example, the LLM is asked to act as a futuristic robot band \n",
    "# conductor and suggest a song title related to the given theme and year\n",
    "\n",
    "from langchain import PromptTemplate, LLMChain\n",
    "from langchain.llms import OpenAI\n",
    "\n",
    "llm = OpenAI(model = \"gpt-3.5-turbo-instruct\", temperature=0)\n",
    "\n",
    "template = \"\"\"\"\n",
    "            As a futuristic robot band conductor, I need you to help me come up with a song title.\n",
    "            What's a cool song title for a song about {theme} in the year {year}?\n",
    "\"\"\"\n",
    "\n",
    "prompt = PromptTemplate(\n",
    "    input_variables = [\"theme\", \"year\"],\n",
    "    template = template)\n",
    "\n",
    "input_data = {\"theme\":\"interstellar travel\",\"year\":\"3030\"}\n",
    "\n",
    "chain = LLMChain(llm = llm, prompt=prompt)\n",
    "\n",
    "response = chain.invoke(input_data)\n",
    "\n",
    "print(\"Theme: interstellar travel\")\n",
    "print(\"Year: 3030\")\n",
    "print(\"AI-generated song title:\", response['text'])"
   ]
  },
  {
   "cell_type": "markdown",
   "id": "2b377d40-48d1-4620-a731-0c10ec428404",
   "metadata": {},
   "source": [
    "This is a good prompt for several reasons:\n",
    "\n",
    "- **Clear instructions:** The prompt is phrased as a clear request for help in generating a song title, and it specifies the context: \"As a futuristic robot band conductor.\" This helps the LLM understand that the desired output should be a song title related to a futuristic scenario.\n",
    "\n",
    "- **Specificity:** The prompt asks for a song title that relates to a specific theme and a specific year, \"{theme} in the year {year}.\" This provides enough context for the LLM to generate a relevant and creative output. The prompt can be adapted for different themes and years by using input variables, making it versatile and reusable.\n",
    "\n",
    "- **Open-ended creativity:** The prompt allows for open-ended creativity, as it doesn't limit the LLM to a particular format or style for the song title. The LLM can generate a diverse range of song titles based on the given theme and year.\n",
    "Focus on the task: The prompt is focused solely on generating a song title, making it easier for the LLM to provide a suitable output without getting sidetracked by unrelated topics.\n",
    "\n",
    "These elements help the LLM understand the user's intention and generate a suitable response."
   ]
  },
  {
   "cell_type": "markdown",
   "id": "3ea73d1c-596d-4327-9fb8-a3e69ade989d",
   "metadata": {},
   "source": [
    "# Few Shot Prompting"
   ]
  },
  {
   "cell_type": "code",
   "execution_count": 14,
   "id": "becf2f8f-9637-49f3-8fc3-39547d2c8c69",
   "metadata": {},
   "outputs": [
    {
     "name": "stdout",
     "output_type": "stream",
     "text": [
      "Colour purple\n",
      "Emotion  royalty\n"
     ]
    }
   ],
   "source": [
    "# Few Shot Prompting In the next example, the LLM is asked to provide the emotion \n",
    "# associated with a given color based on a few examples of color-emotion pairs:\n",
    "from langchain import FewShotPromptTemplate\n",
    "examples = [\n",
    "    {\"color\": \"red\", \"emotion\": \"passion\"},\n",
    "    {\"color\": \"blue\", \"emotion\": \"serenity\"},\n",
    "    {\"color\": \"green\", \"emotion\": \"tranquility\"},\n",
    "]\n",
    "\n",
    "example_formatter_template = \"\"\"\n",
    "Color: {color}\n",
    "Emotion: {emotion}\\n\n",
    "\"\"\"\n",
    "\n",
    "example_prompt = PromptTemplate(\n",
    "    input_variables=[\"color\", \"emotion\"],\n",
    "    template=example_formatter_template,\n",
    ")\n",
    "\n",
    "few_shot_prompt = FewShotPromptTemplate(\n",
    "    examples = examples,\n",
    "    example_prompt = example_prompt,\n",
    "    prefix = \"Here are some examples of colors and the emotions associated with them:\\n\\n\",\n",
    "    suffix=\"\\n\\nNow, given a new color, identify the emotion associated with it:\\n\\nColor: {input}\\nEmotion:\",\n",
    "    input_variables=  [\"input\"],\n",
    "    example_separator = \"\\n\")\n",
    "\n",
    "formatted_prompt = few_shot_prompt.format(input=\"purple\")\n",
    "\n",
    "# The formatted prompt is not passed directly to the chain but type casted as a PromptTemplate object\n",
    "chain = LLMChain(llm = llm, prompt=PromptTemplate(template=formatted_prompt))\n",
    "\n",
    "response  = chain.invoke({})\n",
    "\n",
    "print(\"Colour\",\"purple\")\n",
    "print(\"Emotion\",response['text'])"
   ]
  },
  {
   "cell_type": "markdown",
   "id": "4ea797eb-26f9-49bb-8dc1-1e68de6e1287",
   "metadata": {},
   "source": [
    "# Bad Prompt practices"
   ]
  },
  {
   "cell_type": "code",
   "execution_count": 15,
   "id": "0955cb35-5f00-4e04-8784-db6a00eb4828",
   "metadata": {},
   "outputs": [
    {
     "data": {
      "text/plain": [
       "'Tell me something about dogs.'"
      ]
     },
     "execution_count": 15,
     "metadata": {},
     "output_type": "execute_result"
    }
   ],
   "source": [
    "#  a too-vague prompt that provides little context or guidance for the model to generate a meaningful response.\n",
    "\n",
    "template = \"Tell me something about {topic}.\"\n",
    "prompt = PromptTemplate(\n",
    "    input_variables=[\"topic\"],\n",
    "    template=template,\n",
    ")\n",
    "prompt.format(topic=\"dogs\")"
   ]
  },
  {
   "cell_type": "markdown",
   "id": "99c6b9e9-2a60-4adb-a988-3f0b2de29ac5",
   "metadata": {},
   "source": [
    "# Chain Prompting"
   ]
  },
  {
   "cell_type": "markdown",
   "id": "a84043db-8886-41be-9fe1-be91e3cc4ddf",
   "metadata": {},
   "source": [
    "Chain Prompting refers to the practice of chaining consecutive prompts, where the output of a previous prompt becomes the input of the successive prompt.\n",
    "\n",
    "To use chain prompting with LangChain, you could:\n",
    "\n",
    "- Extract relevant information from the generated response.\n",
    "- Use the extracted information to create a new prompt that builds upon the previous response.\n",
    "- Repeat steps as needed until the desired output is achieved.\n",
    "\n",
    "**PromptTemplate** class makes constructing prompts with dynamic inputs easier. This is useful when creating a prompt chain that depends on previous answers. "
   ]
  },
  {
   "cell_type": "code",
   "execution_count": 16,
   "id": "11856b8e-9b21-4ac6-b4c9-d00264ebe1b0",
   "metadata": {},
   "outputs": [
    {
     "name": "stdout",
     "output_type": "stream",
     "text": [
      "Scientist: Albert Einstein\n",
      "\n",
      "Fact: Albert Einstein's theory of general relativity is a theory of gravity that explains how massive objects interact with each other and how they affect the fabric of space and time. According to this theory, gravity is not a force between masses, but rather a curvature of space and time caused by the presence of massive objects. This curvature is what causes objects to move towards each other, giving the appearance of a gravitational force. General relativity also predicts the phenomenon of gravitational time dilation, where time moves slower in the presence of strong gravitational fields. This theory has been extensively tested and has been shown to accurately predict the behavior of objects in the universe, including the bending of light by massive objects and the existence of black holes. It is considered one of the most important and influential theories in modern physics.\n"
     ]
    }
   ],
   "source": [
    "# prompt 1\n",
    "template_question = \"\"\"What is the anme of the famous scientist who developed the theory of general relativity?\n",
    "Answer:\"\"\"\n",
    "\n",
    "question_prompt = PromptTemplate(input_variabls=[], template = template_question)\n",
    "\n",
    "# prompt 2\n",
    "\n",
    "template_fact = \"\"\"Provide a brief description of {scientist}'s thoery of general relativity.\n",
    "Answer:\n",
    "\"\"\"\n",
    "\n",
    "fact_prompt = PromptTemplate(input_variables=['scientist'], template=template_fact)\n",
    "\n",
    "# create llmchain for the first prompt\n",
    "\n",
    "chain_question = LLMChain(llm=llm, prompt=question_prompt)\n",
    "\n",
    "# running with empty input\n",
    "\n",
    "response_question = chain_question.run({})\n",
    "\n",
    "# extracting name from response\n",
    "scientist = response_question.strip()\n",
    "\n",
    "# create llmchain for the 2nd prompt\n",
    "\n",
    "chain_fact = LLMChain(llm=llm, prompt = fact_prompt)\n",
    "\n",
    "# Input data for the second prompt\n",
    "input_data = {\"scientist\": scientist}\n",
    "\n",
    "# Run the LLMChain for the second prompt\n",
    "response_fact = chain_fact.run(input_data)\n",
    "\n",
    "print(\"Scientist:\", scientist)\n",
    "print()\n",
    "print(\"Fact:\", response_fact)"
   ]
  },
  {
   "cell_type": "markdown",
   "id": "6c114ca3-60b1-4c16-9cf0-48995e5c4e41",
   "metadata": {},
   "source": [
    "**Bad Prompt Example**\n",
    "\n",
    "This following fact_prompt may generate a less informative or focused response than the previous example due to its more open-ended nature.\n",
    "\n",
    "fact_prompt = Tell me something interesting about {scientist}."
   ]
  },
  {
   "cell_type": "code",
   "execution_count": 17,
   "id": "45a86ba2-4404-44f7-b4df-b3eac275a6f0",
   "metadata": {},
   "outputs": [
    {
     "name": "stdout",
     "output_type": "stream",
     "text": [
      "Scientist: Albert Einstein\n",
      "\n",
      "Fact: \n",
      "Albert Einstein was a passionate musician and played the violin. He often said that if he hadn't become a scientist, he would have become a musician. He even said that his theory of relativity was inspired by his love for music and the harmony of the universe.\n"
     ]
    }
   ],
   "source": [
    "template_fact = \"\"\"Tell me something interesting about {scientist}.\n",
    "Answer:\n",
    "\"\"\"\n",
    "\n",
    "fact_prompt = PromptTemplate(input_variables=['scientist'], template=template_fact)\n",
    "\n",
    "chain_fact = LLMChain(llm=llm, prompt = fact_prompt)\n",
    "\n",
    "response_fact = chain_fact.run(input_data)\n",
    "\n",
    "print(\"Scientist:\", scientist)\n",
    "print()\n",
    "print(\"Fact:\", response_fact)"
   ]
  },
  {
   "cell_type": "markdown",
   "id": "b70ea245-8f5f-4a5d-a6f3-208cc1bb1887",
   "metadata": {},
   "source": [
    "**Unclear prompt example**"
   ]
  },
  {
   "cell_type": "code",
   "execution_count": 18,
   "id": "d5e85b3d-593e-4efa-a58c-7e3ab3bb5d36",
   "metadata": {},
   "outputs": [
    {
     "name": "stdout",
     "output_type": "stream",
     "text": [
      "Genres: jazz pop rock\n",
      "Fact: \n",
      "Jazz, pop, and rock are three popular genres of music that have evolved over time and have a wide range of styles and influences. They all have distinct characteristics and elements that make them unique, such as improvisation in jazz, catchy melodies in pop, and heavy guitar riffs in rock. These genres have also influenced and been influenced by each other, leading to the creation of sub-genres and fusion styles. They have a strong presence in mainstream music and have been embraced by audiences of all ages and backgrounds.\n"
     ]
    }
   ],
   "source": [
    "# Prompt 1\n",
    "template_question = \"\"\"What are some musical genres?\n",
    "Answer: \"\"\"\n",
    "prompt_question = PromptTemplate(input_variables=[], template=template_question)\n",
    "\n",
    "# Prompt 2\n",
    "template_fact = \"\"\"Tell me something about {genre1}, {genre2}, and {genre3} without giving any specific details.\n",
    "Answer: \"\"\"\n",
    "prompt_fact = PromptTemplate(input_variables=[\"genre1\", \"genre2\", \"genre3\"], template=template_fact)\n",
    "\n",
    "# Create the LLMChain for the first prompt\n",
    "chain_question = LLMChain(llm=llm, prompt=prompt_question)\n",
    "\n",
    "# Run the LLMChain for the first prompt with an empty dictionary\n",
    "response_question = chain_question.run({})\n",
    "\n",
    "# Assign three hardcoded genres\n",
    "genre1, genre2, genre3 = \"jazz\", \"pop\", \"rock\"\n",
    "\n",
    "# Create the LLMChain for the second prompt\n",
    "chain_fact = LLMChain(llm=llm, prompt=prompt_fact)\n",
    "\n",
    "# Input data for the second prompt\n",
    "input_data = {\"genre1\": genre1, \"genre2\": genre2, \"genre3\": genre3}\n",
    "\n",
    "# Run the LLMChain for the second prompt\n",
    "response_fact = chain_fact.run(input_data)\n",
    "\n",
    "print(\"Genres:\", genre1, genre2, genre3)\n",
    "print(\"Fact:\", response_fact)"
   ]
  },
  {
   "cell_type": "markdown",
   "id": "90ea7cba-3e9f-4c03-bb14-697a340512a0",
   "metadata": {},
   "source": [
    "In this example, the second prompt is constructed poorly. It asks to \"tell me something about {genre1}, {genre2}, and {genre3} without giving any specific details.\" This prompt is unclear, as it asks for information about the genres but also states not to provide specific details. This makes it difficult for the LLM to generate a coherent and informative response. As a result, the LLM may provide a less informative or confusing answer.\n",
    "\n",
    "The first prompt asks for \"some musical genres\" **without specifying any criteria or context**, and the second prompt asks why the given genres are \"unique\" **without providing any guidance** on what aspects of uniqueness to focus on, such as their historical origins, stylistic features, or cultural significance."
   ]
  },
  {
   "cell_type": "markdown",
   "id": "cad2a7a3-16d8-4f01-a073-ee64bd692c57",
   "metadata": {},
   "source": [
    "# Chain of Thought Prompting\n",
    "\n",
    "Chain of Thought Prompting (CoT) is a technique developed to encourage large language models to explain their reasoning process, leading to more accurate results. By providing few-shot exemplars demonstrating the reasoning process, the LLM is guided to explain its reasoning when answering the prompt. This approach has been found effective in improving results on tasks like arithmetic, common sense, and symbolic reasoning.\n",
    "\n",
    "Firstly, It can decompose complex tasks into smaller tasks making it easier to understand and solve the problem. This is particularly useful for calculations, logic, or multi-step reasoning tasks. Second, CoT can guide the model through related prompts, helping generate more coherent and contextually relevant outputs. This can lead to more accurate and useful responses in tasks that require a deep understanding of the problem or domain.\n",
    "\n",
    "There are some limitations to consider when using CoT. One limitation is that it has been found to yield performance gains only when used with models of approximately 100 billion parameters or larger; smaller models tend to produce illogical chains of thought, which can lead to worse accuracy than standard prompting. Another limitation is that CoT may not be equally effective for all tasks. It has been shown to be most effective for tasks involving arithmetic, common sense, and symbolic reasoning. For other types of tasks, the benefits of using CoT might be less pronounced or even counterproductive."
   ]
  },
  {
   "cell_type": "markdown",
   "id": "07143917-e4ee-436c-8b99-1a03dd7d61a0",
   "metadata": {},
   "source": [
    "For effetive prompt engineering\n",
    "\n",
    "- Be specific with your prompt: Provide enough context and detail to guide the LLM toward the desired output.\n",
    "- Force conciseness when needed.\n",
    "- Encourage the model to explain its reasoning: This can lead to more accurate results, especially for complex tasks."
   ]
  },
  {
   "cell_type": "code",
   "execution_count": 33,
   "id": "c25c7f16-4fd6-47f4-b213-659202e6f268",
   "metadata": {},
   "outputs": [
    {
     "name": "stdout",
     "output_type": "stream",
     "text": [
      "User Query: What are some tips for improving communication skills?\n",
      "AI Response: {'text': \"Active listening, being clear and concise, and practicing empathy are all important skills for effective communication. Also, don't be afraid to ask for clarification or feedback to improve your communication.\"}\n",
      "Active listening, being clear and concise, and practicing empathy are all important skills for effective communication. Also, don't be afraid to ask for clarification or feedback to improve your communication.\n"
     ]
    }
   ],
   "source": [
    "examples = [\n",
    "    {\n",
    "        \"query\": \"What's the secret to happiness?\",\n",
    "        \"answer\": \"Finding balance in life and learning to enjoy the small moments.\"\n",
    "    }, {\n",
    "        \"query\": \"How can I become more productive?\",\n",
    "        \"answer\": \"Try prioritizing tasks, setting goals, and maintaining a healthy work-life balance.\"\n",
    "    }\n",
    "]\n",
    "\n",
    "example_template = \"\"\"\n",
    "User: {query}\n",
    "AI: {answer}\n",
    "\"\"\"\n",
    "\n",
    "example_prompt = PromptTemplate(\n",
    "    input_variables=[\"query\", \"answer\"],\n",
    "    template=example_template\n",
    ")\n",
    "\n",
    "prefix = \"\"\"The following are excerpts from conversations with an AI\n",
    "life coach. The assistant provides insightful and practical advice to the users' questions. Here are some\n",
    "examples: \n",
    "\"\"\"\n",
    "\n",
    "suffix = \"\"\"\n",
    "User: {query}\n",
    "AI: \"\"\"\n",
    "\n",
    "few_shot_prompt_template = FewShotPromptTemplate(\n",
    "    examples=examples,\n",
    "    example_prompt=example_prompt,\n",
    "    prefix=prefix,\n",
    "    suffix=suffix,\n",
    "    input_variables=[\"query\"],\n",
    "    example_separator=\"\\n\\n\"\n",
    ")\n",
    "\n",
    "user_query = \"What are some tips for improving communication skills?\"\n",
    "\n",
    "formatted_template = few_shot_prompt_template.format(query = user_query)\n",
    "\n",
    "chain = LLMChain(llm=llm, prompt=PromptTemplate(template = formatted_template))\n",
    "\n",
    "response = chain.invoke({})\n",
    "\n",
    "print(\"User Query:\", user_query)\n",
    "print(\"AI Response:\", response)\n",
    "\n",
    "response_run = chain.run({})\n",
    "\n",
    "print(response_run)"
   ]
  },
  {
   "cell_type": "code",
   "execution_count": 29,
   "id": "5688cc10-74da-4e2b-8840-972b67221c07",
   "metadata": {},
   "outputs": [
    {
     "name": "stdout",
     "output_type": "stream",
     "text": [
      "User Query: What are some tips for improving communication skills?\n",
      "AI Response: Active listening, being clear and concise, and practicing empathy are all important skills for effective communication. Also, don't be afraid to ask for clarification or feedback to improve your communication.\n"
     ]
    }
   ],
   "source": [
    "# creating chain withut formatted prompt, rather passing few shot prompt template directly\n",
    "chain = LLMChain(llm=llm, prompt=few_shot_prompt_template)\n",
    "\n",
    "response = chain.run({\"query\": user_query})\n",
    "\n",
    "print(\"User Query:\", user_query)\n",
    "print(\"AI Response:\", response)"
   ]
  },
  {
   "cell_type": "markdown",
   "id": "d7ca5f88-693f-4fc4-abb1-c934184bb76b",
   "metadata": {},
   "source": [
    "This prompt:\n",
    "\n",
    "- **Provides a clear context in the prefix:** The prompt states that the AI is a life coach providing insightful and practical advice. This context helps guide the AI's responses and ensures they align with the intended purpose.\n",
    "\n",
    "- **Uses examples** that demonstrate the AI's role and **the type of responses** it generates: By providing relevant examples, the AI can better understand the style and tone of the responses it should produce. These examples serve as a reference for the AI to generate similar responses that are consistent with the given context.\n",
    "\n",
    "- Separates examples and the actual query: This **allows the AI to understand the format it should follow,** ensuring a clear distinction between example conversations and the user's input. This separation helps the AI to focus on the current query and respond accordingly.\n",
    "\n",
    "- Includes a clear suffix that indicates where the user's input goes and where the AI should provide its response: The suffix acts as a cue for the AI, showing where the user's query ends and the AI's response should begin. This structure helps maintain a **clear and consistent format** for the generated responses.\n",
    "\n",
    "\n",
    "By using this well-structured prompt, the AI can understand its role, the context, and the expected response format, leading to more accurate and useful outputs."
   ]
  },
  {
   "cell_type": "code",
   "execution_count": null,
   "id": "ca4514b5-ae4e-4887-af37-9d7f62c54685",
   "metadata": {},
   "outputs": [],
   "source": []
  }
 ],
 "metadata": {
  "kernelspec": {
   "display_name": "Python 3 (ipykernel)",
   "language": "python",
   "name": "python3"
  },
  "language_info": {
   "codemirror_mode": {
    "name": "ipython",
    "version": 3
   },
   "file_extension": ".py",
   "mimetype": "text/x-python",
   "name": "python",
   "nbconvert_exporter": "python",
   "pygments_lexer": "ipython3",
   "version": "3.10.1"
  }
 },
 "nbformat": 4,
 "nbformat_minor": 5
}
