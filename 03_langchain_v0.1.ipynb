{
 "cells": [
  {
   "cell_type": "code",
   "execution_count": 8,
   "id": "8cd86d6a-bb99-49be-9dfc-cb7454a5c6fa",
   "metadata": {},
   "outputs": [
    {
     "name": "stdout",
     "output_type": "stream",
     "text": [
      "I am an AI assistant and do not have real-time capabilities. Please check your calendar or device for the current date.\n"
     ]
    }
   ],
   "source": [
    "import os\n",
    "from langchain_openai import ChatOpenAI\n",
    "\n",
    "llm = ChatOpenAI(model='gpt-3.5-turbo')\n",
    "\n",
    "print(llm.invoke(\"what's the day today?\").content)\n"
   ]
  },
  {
   "cell_type": "code",
   "execution_count": null,
   "id": "ccc18c32-bea0-485e-a914-8938be7db0a0",
   "metadata": {},
   "outputs": [],
   "source": []
  }
 ],
 "metadata": {
  "kernelspec": {
   "display_name": "Python 3 (ipykernel)",
   "language": "python",
   "name": "python3"
  },
  "language_info": {
   "codemirror_mode": {
    "name": "ipython",
    "version": 3
   },
   "file_extension": ".py",
   "mimetype": "text/x-python",
   "name": "python",
   "nbconvert_exporter": "python",
   "pygments_lexer": "ipython3",
   "version": "3.10.1"
  }
 },
 "nbformat": 4,
 "nbformat_minor": 5
}
