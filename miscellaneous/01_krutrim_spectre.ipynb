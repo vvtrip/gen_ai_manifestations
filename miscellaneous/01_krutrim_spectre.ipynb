{
 "cells": [
  {
   "cell_type": "code",
   "execution_count": 5,
   "id": "15cf067f-13d8-4c72-b8be-fbe84e6151ed",
   "metadata": {},
   "outputs": [
    {
     "data": {
      "text/plain": [
       "True"
      ]
     },
     "execution_count": 5,
     "metadata": {},
     "output_type": "execute_result"
    }
   ],
   "source": [
    "from dotenv import load_dotenv, find_dotenv\n",
    "import os\n",
    "load_dotenv(find_dotenv('file.env'))"
   ]
  },
  {
   "cell_type": "code",
   "execution_count": 6,
   "id": "1fffca77-3294-410b-bc21-66433de4f4a1",
   "metadata": {},
   "outputs": [
    {
     "name": "stdout",
     "output_type": "stream",
     "text": [
      " Hello! How can I assist you today?\n"
     ]
    }
   ],
   "source": [
    "# Assume openai>=1.0.0\n",
    "from openai import OpenAI\n",
    "# Create an OpenAI client with your KRUTRIM API KEY and endpoint\n",
    "  \n",
    "openai = OpenAI(\n",
    "    api_key=os.getenv('KRUTRIM_API_KEY'),\n",
    "    base_url=\"https://cloud.olakrutrim.com/v1\",\n",
    ")\n",
    "  \n",
    "chat_completion = openai.chat.completions.create(\n",
    "    model=\"Krutrim-spectre-v2\",\n",
    "    messages=[\n",
    "        {\"role\": \"system\", \"content\": \"You are a helpful assistant.\"},\n",
    "        {\"role\": \"user\", \"content\": \"Hello\"}\n",
    "    ]\n",
    ")\n",
    "print(chat_completion.choices[0].message.content)"
   ]
  },
  {
   "cell_type": "code",
   "execution_count": 9,
   "id": "40a88a6e-d932-47f0-9056-20bd1e69427e",
   "metadata": {},
   "outputs": [],
   "source": [
    "    # Importing OpenAIs chat capabilities from langchain_openai\n",
    "from langchain_openai import ChatOpenAI  \n",
    "  \n",
    "  # Importing the function to load environment variables\n",
    "from dotenv import load_dotenv  \n",
    "  \n",
    "  # Importing message classes for AI and human interactions\n",
    "from langchain_core.messages import HumanMessage  \n",
    "  \n",
    "  # Importing template and placeholder classes for chat prompts\n",
    "from langchain_core.prompts import ChatPromptTemplate, MessagesPlaceholder  \n",
    "  \n",
    "  # Importing the os module for interacting with the operating system\n",
    "import os  \n",
    "  \n",
    "  # Importing json for parsing JSON strings\n",
    "import json"
   ]
  },
  {
   "cell_type": "code",
   "execution_count": 13,
   "id": "8762a964-67a3-4f4c-a9ea-859a0da8b2ed",
   "metadata": {},
   "outputs": [
    {
     "name": "stdout",
     "output_type": "stream",
     "text": [
      " Subject: Disappointing Performance of RCB in IPL\n",
      "\n",
      "Dear Dhoni,\n",
      "\n",
      "I hope this email finds you well. I am writing to express my disappointment with the recent performance of Royal Challengers Bangalore (RCB) in the Indian Premier League (IPL). As a loyal fan of both teams, it has been quite disheartening to see RCB struggle so much this season. \n",
      "\n",
      "To begin with, their batting lineup hasn't been performing up to expectations. Despite having talented players like Virat Kohli, AB de Villiers, and Glenn Maxwell in the team, they have failed to score enough runs consistently throughout the tournament. This has put immense pressure on the bowlers who have struggled to defend competitive totals.\n",
      "\n",
      "Moreover, their fielding has also been disappointing at times. Simple catches have gone astray, resulting in unnecessary runs being scored for the opposition. Additionally, poor bowling decisions and lack of strategy have further hurt RCB's chances of winning matches.\n",
      "\n",
      "As a fan, I believe that RCB needs to analyze their performance and make necessary changes to improve their game. It would be great if they could work on strengthening their batting line-up by adding experienced players who can deliver under pressure. They should also focus on improving their fielding techniques and ensure better communication between the players on the ground. Lastly, the management must implement effective bowling strategies and give opportunities to players who have shown potential but haven't gotten enough exposure.\n",
      "\n",
      "In conclusion, I urge RCB to take these suggestions into consideration and strive towards achieving greater success in future seasons of IPL. I remain hopeful that they will learn from their mistakes and come back stronger next year. \n",
      "\n",
      "Thank you for reading my email. Looking forward to hearing from you soon.\n",
      "\n",
      "Regards,\n",
      "[Your Name]\n"
     ]
    }
   ],
   "source": [
    "chat = ChatOpenAI(api_key=os.getenv('KRUTRIM_API_KEY'), base_url=\"https://cloud.olakrutrim.com/v1\", model=\"Krutrim-spectre-v2\")\n",
    "\n",
    "# Set maximum token limit for the chat model\n",
    "chat.max_tokens = 512\n",
    "\n",
    "# Configure model-specific parameters\n",
    "chat.model_kwargs = {\"top_p\": 0.8, \"frequency_penalty\": 0.0, \"presence_penalty\": 0.0, \"stop\":[\"<|eot_id|>\",\"<|im_start|>\",\"<|im_end|>\"]}\n",
    "\n",
    "\n",
    "# Define a chat prompt template with pre-defined system and human messages\n",
    "prompt = ChatPromptTemplate.from_messages(\n",
    "    [\n",
    "        (\n",
    "            \"system\",\n",
    "            \"You are a helpful assistant. Helps writing email in Hindi Language.\",\n",
    "        ),\n",
    "        MessagesPlaceholder(variable_name=\"messages\"),\n",
    "    ]\n",
    ")\n",
    "\n",
    "# Chain the prompt and chat objects to form a processing pipeline\n",
    "chain = prompt | chat\n",
    "\n",
    "# Invoke the processing chain with specific messages\n",
    "response = chain.invoke(\n",
    "    {\n",
    "        \"messages\": [\n",
    "            HumanMessage(\n",
    "                content=\"Please write email in proper format sender name is Virat Kohli and receipent name is Dhoni, about sad performance of RCB in IPL.\"\n",
    "            )\n",
    "        ],\n",
    "    }\n",
    ")\n",
    "\n",
    "# Print the result of the chat processing\n",
    "print(response.content)"
   ]
  },
  {
   "cell_type": "code",
   "execution_count": null,
   "id": "dbb0720e-a2fc-447c-95bd-1a4590b41af8",
   "metadata": {},
   "outputs": [],
   "source": []
  }
 ],
 "metadata": {
  "kernelspec": {
   "display_name": "Python 3 (ipykernel)",
   "language": "python",
   "name": "python3"
  },
  "language_info": {
   "codemirror_mode": {
    "name": "ipython",
    "version": 3
   },
   "file_extension": ".py",
   "mimetype": "text/x-python",
   "name": "python",
   "nbconvert_exporter": "python",
   "pygments_lexer": "ipython3",
   "version": "3.10.1"
  }
 },
 "nbformat": 4,
 "nbformat_minor": 5
}
