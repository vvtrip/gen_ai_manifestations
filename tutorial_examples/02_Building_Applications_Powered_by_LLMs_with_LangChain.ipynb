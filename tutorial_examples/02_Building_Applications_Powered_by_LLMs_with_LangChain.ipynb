{
  "nbformat": 4,
  "nbformat_minor": 0,
  "metadata": {
    "colab": {
      "provenance": []
    },
    "kernelspec": {
      "name": "python3",
      "display_name": "Python 3"
    },
    "language_info": {
      "name": "python"
    }
  },
  "cells": [
    {
      "cell_type": "code",
      "execution_count": null,
      "metadata": {
        "id": "LNoTP56OxHgr"
      },
      "outputs": [],
      "source": [
        "!pip install -q langchain==0.0.208 openai==0.27.8 python-dotenv pypdf"
      ]
    },
    {
      "cell_type": "code",
      "source": [
        "from dotenv import load_dotenv\n",
        "\n",
        "!echo \"OPENAI_API_KEY='<OPENAI_API_KEY>'\" > .env\n",
        "\n",
        "load_dotenv()"
      ],
      "metadata": {
        "colab": {
          "base_uri": "https://localhost:8080/"
        },
        "id": "Kbp_3cG1xLZF",
        "outputId": "85a50a5b-12f9-4a8f-8180-3ca920841174"
      },
      "execution_count": null,
      "outputs": [
        {
          "output_type": "execute_result",
          "data": {
            "text/plain": [
              "True"
            ]
          },
          "metadata": {},
          "execution_count": 2
        }
      ]
    },
    {
      "cell_type": "code",
      "source": [
        "from langchain.chat_models import ChatOpenAI\n",
        "from langchain.prompts.chat import (\n",
        "    ChatPromptTemplate,\n",
        "    SystemMessagePromptTemplate,\n",
        "    HumanMessagePromptTemplate,\n",
        ")\n",
        "\n",
        "chat = ChatOpenAI(model_name=\"gpt-3.5-turbo-1106\", temperature=0)\n",
        "\n",
        "template = \"You are an assistant that helps users find information about movies.\"\n",
        "system_message_prompt = SystemMessagePromptTemplate.from_template(template)\n",
        "human_template = \"Find information about the movie {movie_title}.\"\n",
        "human_message_prompt = HumanMessagePromptTemplate.from_template(human_template)\n",
        "\n",
        "chat_prompt = ChatPromptTemplate.from_messages([system_message_prompt, human_message_prompt])\n",
        "\n",
        "response = chat(chat_prompt.format_prompt(movie_title=\"Inception\").to_messages())\n",
        "\n",
        "print(response.content)"
      ],
      "metadata": {
        "colab": {
          "base_uri": "https://localhost:8080/"
        },
        "id": "B9hBmX2axisi",
        "outputId": "96b998c4-3bbc-4f59-b621-5e4200665c76"
      },
      "execution_count": null,
      "outputs": [
        {
          "output_type": "stream",
          "name": "stdout",
          "text": [
            "\"Inception\" is a 2010 science fiction action film directed by Christopher Nolan. The movie stars Leonardo DiCaprio, Joseph Gordon-Levitt, Ellen Page, Tom Hardy, and Ken Watanabe. The story follows a thief who enters the dreams of others to steal their secrets. The film explores the concept of dream manipulation and features mind-bending visual effects. \"Inception\" received critical acclaim for its originality, storytelling, and visual effects. It was also a commercial success, grossing over $800 million worldwide.\n"
          ]
        }
      ]
    },
    {
      "cell_type": "markdown",
      "source": [
        "# ===="
      ],
      "metadata": {
        "id": "ct6UVdwoycvq"
      }
    },
    {
      "cell_type": "code",
      "source": [
        "# Import necessary modules\n",
        "from langchain.chat_models import ChatOpenAI\n",
        "from langchain import PromptTemplate\n",
        "from langchain.chains.summarize import load_summarize_chain\n",
        "from langchain.document_loaders import PyPDFLoader"
      ],
      "metadata": {
        "id": "8Aq0Gw1Ux5E5"
      },
      "execution_count": null,
      "outputs": []
    },
    {
      "cell_type": "code",
      "source": [
        "# Initialize language model\n",
        "llm = ChatOpenAI(model_name=\"gpt-3.5-turbo-1106\", temperature=0)"
      ],
      "metadata": {
        "id": "HiLQa1ExPY3q"
      },
      "execution_count": null,
      "outputs": []
    },
    {
      "cell_type": "code",
      "source": [
        "# Load the summarization chain\n",
        "summarize_chain = load_summarize_chain(llm)"
      ],
      "metadata": {
        "id": "CFNqeufiyj7a"
      },
      "execution_count": null,
      "outputs": []
    },
    {
      "cell_type": "markdown",
      "source": [
        "Download file from: https://www.cheat-sheets.org/saved-copy/The%20One%20Page%20Linux%20Manual.pdf"
      ],
      "metadata": {
        "id": "HWZchXOizjCq"
      }
    },
    {
      "cell_type": "code",
      "source": [
        "!wget https://www.cheat-sheets.org/saved-copy/The%20One%20Page%20Linux%20Manual.pdf"
      ],
      "metadata": {
        "colab": {
          "base_uri": "https://localhost:8080/"
        },
        "id": "xdfEiS0AQPXq",
        "outputId": "558e21c0-e998-4e5c-c548-55a5fd9b0e06"
      },
      "execution_count": null,
      "outputs": [
        {
          "output_type": "stream",
          "name": "stdout",
          "text": [
            "--2024-01-30 16:45:28--  https://www.cheat-sheets.org/saved-copy/The%20One%20Page%20Linux%20Manual.pdf\n",
            "Resolving www.cheat-sheets.org (www.cheat-sheets.org)... 90.156.201.26, 90.156.201.114, 90.156.201.28, ...\n",
            "Connecting to www.cheat-sheets.org (www.cheat-sheets.org)|90.156.201.26|:443... connected.\n",
            "HTTP request sent, awaiting response... 200 OK\n",
            "Length: 96538 (94K) [application/pdf]\n",
            "Saving to: ‘The One Page Linux Manual.pdf’\n",
            "\n",
            "The One Page Linux  100%[===================>]  94.28K   327KB/s    in 0.3s    \n",
            "\n",
            "2024-01-30 16:45:29 (327 KB/s) - ‘The One Page Linux Manual.pdf’ saved [96538/96538]\n",
            "\n"
          ]
        }
      ]
    },
    {
      "cell_type": "code",
      "source": [
        "# Load the document using PyPDFLoader\n",
        "document_loader = PyPDFLoader(file_path=\"./The One Page Linux Manual.pdf\")\n",
        "document = document_loader.load()"
      ],
      "metadata": {
        "id": "cC4g9vFgyqSa"
      },
      "execution_count": null,
      "outputs": []
    },
    {
      "cell_type": "code",
      "source": [
        "# Summarize the document\n",
        "summary = summarize_chain(document)"
      ],
      "metadata": {
        "id": "fauNaJMbytqk"
      },
      "execution_count": null,
      "outputs": []
    },
    {
      "cell_type": "code",
      "source": [
        "print(summary['output_text'])"
      ],
      "metadata": {
        "colab": {
          "base_uri": "https://localhost:8080/"
        },
        "id": "DUvzQ37JzP6e",
        "outputId": "c28735e7-ffb9-4b3f-adf8-ce0fa10c845a"
      },
      "execution_count": null,
      "outputs": [
        {
          "output_type": "stream",
          "name": "stdout",
          "text": [
            "The One Page Linux Manual provides a summary of useful Linux commands for starting and stopping the system, accessing and mounting file systems, finding files and text within files, using the X Window System, managing files, installing software, user administration, and little known tips and tricks. It also includes information on configuration files, file permissions, X shortcuts, and printing. The manual also offers a link to purchase an Official Linux Pocket Protector.\n"
          ]
        }
      ]
    },
    {
      "cell_type": "markdown",
      "source": [
        "# ====="
      ],
      "metadata": {
        "id": "5s7rtCx7zlo4"
      }
    },
    {
      "cell_type": "code",
      "source": [
        "from langchain.prompts import PromptTemplate\n",
        "from langchain.chains import LLMChain\n",
        "from langchain.chat_models import ChatOpenAI\n",
        "\n",
        "prompt = PromptTemplate(template=\"Question: {question}\\nAnswer:\", input_variables=[\"question\"])\n",
        "\n",
        "llm = ChatOpenAI(model_name=\"gpt-3.5-turbo-1106\", temperature=0)\n",
        "chain = LLMChain(llm=llm, prompt=prompt)"
      ],
      "metadata": {
        "id": "2XTRA4IgzmIN"
      },
      "execution_count": null,
      "outputs": []
    },
    {
      "cell_type": "code",
      "source": [
        "chain.run(\"what is the meaning of life?\")"
      ],
      "metadata": {
        "colab": {
          "base_uri": "https://localhost:8080/",
          "height": 89
        },
        "id": "IX0AbaAT1CpO",
        "outputId": "d0a9b24a-c6b1-459e-8a6a-2e94ecb6d25c"
      },
      "execution_count": null,
      "outputs": [
        {
          "output_type": "execute_result",
          "data": {
            "text/plain": [
              "'The meaning of life is a deeply philosophical and personal question that has been debated for centuries. Different people and cultures have different beliefs about the purpose and meaning of life. Some believe that the meaning of life is to seek happiness and fulfillment, others believe it is to serve a higher power or contribute to the greater good of humanity. Ultimately, the meaning of life is a question that each individual must grapple with and find their own answer to.'"
            ],
            "application/vnd.google.colaboratory.intrinsic+json": {
              "type": "string"
            }
          },
          "metadata": {},
          "execution_count": 12
        }
      ]
    },
    {
      "cell_type": "code",
      "source": [],
      "metadata": {
        "id": "ib-dU07u1EL_"
      },
      "execution_count": null,
      "outputs": []
    }
  ]
}